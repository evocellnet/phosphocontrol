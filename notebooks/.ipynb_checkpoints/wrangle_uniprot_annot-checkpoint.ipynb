{
 "cells": [
  {
   "cell_type": "markdown",
   "id": "142dcf78-76d0-4f4a-8858-77da39e6ca67",
   "metadata": {},
   "source": [
    "## Wrangling UniProt site annotation\n",
    "Notebook to prepare UniProt site annotation in a nicer format"
   ]
  },
  {
   "cell_type": "code",
   "execution_count": 178,
   "id": "03cb411e-3dbd-4fce-8123-f43d3dc0f4a7",
   "metadata": {
    "tags": []
   },
   "outputs": [],
   "source": [
    "from pathlib import Path\n",
    "from math import isnan\n",
    "import pandas as pd"
   ]
  },
  {
   "cell_type": "code",
   "execution_count": 179,
   "id": "1b797350-d637-4915-9dec-6b1ea60ae922",
   "metadata": {
    "tags": []
   },
   "outputs": [],
   "source": [
    "df = pd.read_csv(\"../data/processed/uniprot_site_annotation/idmapping_2024_04_04.tsv\",sep='\\t')\n",
    "columns = [\"uniprot_id\",\"residue\",\"site_type\"]\n"
   ]
  },
  {
   "cell_type": "code",
   "execution_count": 180,
   "id": "dfa4e2d4-70cf-4555-a990-d93a1db53dd8",
   "metadata": {
    "tags": []
   },
   "outputs": [],
   "source": [
    "def get_range(residue_range):\n",
    "    start, end = residue_range.split(\"..\")\n",
    "    residue_list = list(range(int(start),int(end)+1))\n",
    "    return residue_list\n",
    "\n",
    "def parse_active_site(act_site_row):\n",
    "    act_site_row = act_site_row.split(\"ACT_SITE\")\n",
    "    act_site_residues = []\n",
    "    for item in act_site_row:        \n",
    "        if item:\n",
    "            split_item = item.split(\";\")\n",
    "            residue_idx = int(split_item[0])\n",
    "            header, description = split_item[1].split(\"=\")\n",
    "            if header != \" /note\": \n",
    "                description = float('nan')\n",
    "            else:\n",
    "                description = description.replace(\"\\\"\",\"\")\n",
    "            act_site_residues.append((residue_idx, description))\n",
    "    return act_site_residues\n",
    "\n",
    "def parse_binding_site(binding_site_row):\n",
    "    binding_site_row = binding_site_row.split(\"BINDING\")\n",
    "    binding_site_residues = []\n",
    "    for item in binding_site_row:\n",
    "        if item:\n",
    "            split_item = item.split(\";\")\n",
    "            if \"..\" in split_item[0]: # Range of residues\n",
    "                residue_idx = get_range(split_item[0])\n",
    "            else: # Single residue\n",
    "                residue_idx = int(split_item[0])\n",
    "            header, ligand = split_item[1].split(\"=\")\n",
    "            if header != \" /ligand\":\n",
    "                ligand = float('nan')\n",
    "            else:\n",
    "                ligand = ligand.replace(\"\\\"\",\"\")\n",
    "            \n",
    "            if isinstance(residue_idx, list):\n",
    "                for res in residue_idx:\n",
    "                    binding_site_residues.append((res, ligand))\n",
    "            elif isinstance(residue_idx, int):\n",
    "                binding_site_residues.append((residue_idx, ligand))\n",
    "    \n",
    "    return binding_site_residues\n",
    "\n",
    "def parse_dna_binding_site(dna_binding_row):\n",
    "    \n",
    "    dna_binding_row = dna_binding_row.split(\"DNA_BIND\")\n",
    "    dna_binding_residues = []\n",
    "    for item in dna_binding_row:\n",
    "        if item:\n",
    "            split_item = item.split(\";\")\n",
    "            if \"..\" in split_item[0]: # Range of residues\n",
    "                residue_idx = get_range(split_item[0])\n",
    "            else: # Single residue\n",
    "                residue_idx = int(split_item[0])\n",
    "            \n",
    "            if isinstance(residue_idx, list):\n",
    "                for res in residue_idx:\n",
    "                    dna_binding_residues.append(res)\n",
    "            elif isinstance(residue_idx, int):\n",
    "                dna_binding_residues.append(residue_idx)\n",
    "    return dna_binding_residues\n",
    "\n",
    "def parse_site(site_row):\n",
    "    # The space is necessary!\n",
    "    # Don't remove or PROSITE will break things\n",
    "    site_row = site_row.split(\"SITE \") \n",
    "    site_residues = []\n",
    "    for item in site_row:        \n",
    "        if item:\n",
    "            split_item = item.split(\";\")\n",
    "            \n",
    "            if \"..\" in split_item[0]: # Range of residues\n",
    "                residue_idx = get_range(split_item[0])\n",
    "            else: # Single residue\n",
    "                residue_idx = int(split_item[0])\n",
    "\n",
    "            header, description = split_item[1].split(\"=\")\n",
    "            if header != \" /note\": \n",
    "                description = float('nan')\n",
    "            else:\n",
    "                description = description.replace(\"\\\"\",\"\")\n",
    "                        \n",
    "            if isinstance(residue_idx, list):\n",
    "                for res in residue_idx:\n",
    "                    site_residues.append((res, description))\n",
    "            elif isinstance(residue_idx, int):\n",
    "                    site_residues.append((residue_idx, description))\n",
    "\n",
    "    return site_residues\n",
    "\n"
   ]
  },
  {
   "cell_type": "code",
   "execution_count": 181,
   "id": "2ad2f156-b6c3-48e5-9a1f-1e00a2331429",
   "metadata": {
    "tags": []
   },
   "outputs": [],
   "source": [
    "unrolled_df = []\n",
    "columns = [\"uniprot_id\",\"site_type\",\"residue\",\"description\",\"ligand\"]\n",
    "for idx, row in df.iterrows():\n",
    "\n",
    "    act_site_residues = []\n",
    "    binding_site_residues = []\n",
    "    dna_binding_residues = []\n",
    "    site_residues = []\n",
    "    \n",
    "    prot_name = row[\"Entry\"]\n",
    "    active_site = row[\"Active site\"]\n",
    "    binding_site = row['Binding site']\n",
    "    dna_binding_site = row[\"DNA binding\"]\n",
    "    site = row[\"Site\"]\n",
    "    if isinstance(active_site, str):\n",
    "        act_site_residues = parse_active_site(active_site)\n",
    "    if isinstance(binding_site, str):\n",
    "        binding_site_residues = parse_binding_site(binding_site)\n",
    "    if isinstance(dna_binding_site, str):\n",
    "        dna_binding_residues = parse_dna_binding_site(dna_binding_site)\n",
    "    if isinstance(site, str):\n",
    "        site_residues = parse_site(site)\n",
    "    \n",
    "    for res in act_site_residues:\n",
    "        unrolled_df.append([prot_name, \"Active site\", res[0], res[1], float('nan')])\n",
    "    for res in binding_site_residues:\n",
    "        unrolled_df.append([prot_name, \"Binding site\", res[0], float('nan'), res[1]])\n",
    "    for res in dna_binding_residues:\n",
    "        unrolled_df.append([prot_name, \"DNA binding site\", res, float('nan'), float('nan')])\n",
    "    for res in site_residues:\n",
    "        unrolled_df.append([prot_name, \"Site\", res[0], res[1], float('nan')])\n",
    "\n"
   ]
  },
  {
   "cell_type": "code",
   "execution_count": 183,
   "id": "e75957e9-57f9-46b5-bc8e-40a38da4fed4",
   "metadata": {
    "tags": []
   },
   "outputs": [],
   "source": [
    "unrolled_df = pd.DataFrame(unrolled_df, columns=columns)\n",
    "unrolled_df.to_csv(\"../data/processed/uniprot_site_annotation/uniprot_site_annotation.csv\",index=None)"
   ]
  },
  {
   "cell_type": "code",
   "execution_count": 184,
   "id": "b4827f27-3a08-41b7-86af-eca170ed42cd",
   "metadata": {
    "tags": []
   },
   "outputs": [
    {
     "data": {
      "text/html": [
       "<div>\n",
       "<style scoped>\n",
       "    .dataframe tbody tr th:only-of-type {\n",
       "        vertical-align: middle;\n",
       "    }\n",
       "\n",
       "    .dataframe tbody tr th {\n",
       "        vertical-align: top;\n",
       "    }\n",
       "\n",
       "    .dataframe thead th {\n",
       "        text-align: right;\n",
       "    }\n",
       "</style>\n",
       "<table border=\"1\" class=\"dataframe\">\n",
       "  <thead>\n",
       "    <tr style=\"text-align: right;\">\n",
       "      <th></th>\n",
       "      <th>uniprot_id</th>\n",
       "      <th>site_type</th>\n",
       "      <th>residue</th>\n",
       "      <th>description</th>\n",
       "      <th>ligand</th>\n",
       "    </tr>\n",
       "  </thead>\n",
       "  <tbody>\n",
       "    <tr>\n",
       "      <th>0</th>\n",
       "      <td>A0A0K8P8E7</td>\n",
       "      <td>Active site</td>\n",
       "      <td>225</td>\n",
       "      <td>Acyl-ester intermediate</td>\n",
       "      <td>NaN</td>\n",
       "    </tr>\n",
       "    <tr>\n",
       "      <th>1</th>\n",
       "      <td>A0A0K8P8E7</td>\n",
       "      <td>Active site</td>\n",
       "      <td>492</td>\n",
       "      <td>Charge relay system</td>\n",
       "      <td>NaN</td>\n",
       "    </tr>\n",
       "    <tr>\n",
       "      <th>2</th>\n",
       "      <td>A0A0K8P8E7</td>\n",
       "      <td>Active site</td>\n",
       "      <td>528</td>\n",
       "      <td>Charge relay system</td>\n",
       "      <td>NaN</td>\n",
       "    </tr>\n",
       "    <tr>\n",
       "      <th>3</th>\n",
       "      <td>A0A0K8P8E7</td>\n",
       "      <td>Binding site</td>\n",
       "      <td>132</td>\n",
       "      <td>NaN</td>\n",
       "      <td>4-[(2-hydroxyethoxy)carbonyl]benzoate</td>\n",
       "    </tr>\n",
       "    <tr>\n",
       "      <th>4</th>\n",
       "      <td>A0A0K8P8E7</td>\n",
       "      <td>Binding site</td>\n",
       "      <td>226</td>\n",
       "      <td>NaN</td>\n",
       "      <td>4-[(2-hydroxyethoxy)carbonyl]benzoate</td>\n",
       "    </tr>\n",
       "    <tr>\n",
       "      <th>...</th>\n",
       "      <td>...</td>\n",
       "      <td>...</td>\n",
       "      <td>...</td>\n",
       "      <td>...</td>\n",
       "      <td>...</td>\n",
       "    </tr>\n",
       "    <tr>\n",
       "      <th>3120</th>\n",
       "      <td>Q9Y6E0</td>\n",
       "      <td>Binding site</td>\n",
       "      <td>114</td>\n",
       "      <td>NaN</td>\n",
       "      <td>ATP</td>\n",
       "    </tr>\n",
       "    <tr>\n",
       "      <th>3121</th>\n",
       "      <td>Q9Y6E0</td>\n",
       "      <td>Binding site</td>\n",
       "      <td>161</td>\n",
       "      <td>NaN</td>\n",
       "      <td>Mg(2+)</td>\n",
       "    </tr>\n",
       "    <tr>\n",
       "      <th>3122</th>\n",
       "      <td>Q9Y6E0</td>\n",
       "      <td>Binding site</td>\n",
       "      <td>174</td>\n",
       "      <td>NaN</td>\n",
       "      <td>Mg(2+)</td>\n",
       "    </tr>\n",
       "    <tr>\n",
       "      <th>3123</th>\n",
       "      <td>Q9Y6E0</td>\n",
       "      <td>Site</td>\n",
       "      <td>325</td>\n",
       "      <td>Cleavage</td>\n",
       "      <td>NaN</td>\n",
       "    </tr>\n",
       "    <tr>\n",
       "      <th>3124</th>\n",
       "      <td>Q9Y6E0</td>\n",
       "      <td>Site</td>\n",
       "      <td>326</td>\n",
       "      <td>Cleavage</td>\n",
       "      <td>NaN</td>\n",
       "    </tr>\n",
       "  </tbody>\n",
       "</table>\n",
       "<p>3125 rows × 5 columns</p>\n",
       "</div>"
      ],
      "text/plain": [
       "      uniprot_id     site_type  residue              description  \\\n",
       "0     A0A0K8P8E7   Active site      225  Acyl-ester intermediate   \n",
       "1     A0A0K8P8E7   Active site      492      Charge relay system   \n",
       "2     A0A0K8P8E7   Active site      528      Charge relay system   \n",
       "3     A0A0K8P8E7  Binding site      132                      NaN   \n",
       "4     A0A0K8P8E7  Binding site      226                      NaN   \n",
       "...          ...           ...      ...                      ...   \n",
       "3120      Q9Y6E0  Binding site      114                      NaN   \n",
       "3121      Q9Y6E0  Binding site      161                      NaN   \n",
       "3122      Q9Y6E0  Binding site      174                      NaN   \n",
       "3123      Q9Y6E0          Site      325                 Cleavage   \n",
       "3124      Q9Y6E0          Site      326                 Cleavage   \n",
       "\n",
       "                                     ligand  \n",
       "0                                       NaN  \n",
       "1                                       NaN  \n",
       "2                                       NaN  \n",
       "3     4-[(2-hydroxyethoxy)carbonyl]benzoate  \n",
       "4     4-[(2-hydroxyethoxy)carbonyl]benzoate  \n",
       "...                                     ...  \n",
       "3120                                    ATP  \n",
       "3121                                 Mg(2+)  \n",
       "3122                                 Mg(2+)  \n",
       "3123                                    NaN  \n",
       "3124                                    NaN  \n",
       "\n",
       "[3125 rows x 5 columns]"
      ]
     },
     "execution_count": 184,
     "metadata": {},
     "output_type": "execute_result"
    }
   ],
   "source": [
    "unrolled_df"
   ]
  },
  {
   "cell_type": "code",
   "execution_count": 171,
   "id": "5424bb15-7287-476d-8dd0-7897c627c2dc",
   "metadata": {
    "tags": []
   },
   "outputs": [],
   "source": []
  },
  {
   "cell_type": "code",
   "execution_count": null,
   "id": "8eb9e8a4-0c77-488e-b2f7-b08c6a3290c4",
   "metadata": {
    "tags": []
   },
   "outputs": [],
   "source": []
  },
  {
   "cell_type": "code",
   "execution_count": 76,
   "id": "9db828a5-35a3-4a95-9bed-eb1fa5f7feb7",
   "metadata": {
    "tags": []
   },
   "outputs": [
    {
     "data": {
      "text/plain": [
       "[' 132',\n",
       " ' /ligand=\"4-[(2-hydroxyethoxy)carbonyl]benzoate\"',\n",
       " ' /ligand_id=\"ChEBI:CHEBI:131704\"',\n",
       " ' /evidence=\"ECO:0000305|PubMed:30979881\"',\n",
       " ' ']"
      ]
     },
     "execution_count": 76,
     "metadata": {},
     "output_type": "execute_result"
    }
   ],
   "source": [
    "#df.iloc[0]['Binding site'].split(\"BINDING\")\n",
    "df.iloc[0]['Binding site'].split(\"BINDING\")[1].split(\";\")"
   ]
  },
  {
   "cell_type": "code",
   "execution_count": 24,
   "id": "3a2a4b98-3d97-4bcc-827a-32fccbd8744e",
   "metadata": {
    "tags": []
   },
   "outputs": [
    {
     "data": {
      "text/plain": [
       "[' 132',\n",
       " ' /ligand=\"4-[(2-hydroxyethoxy)carbonyl]benzoate\"',\n",
       " ' /ligand_id=\"ChEBI:CHEBI:131704\"',\n",
       " ' /evidence=\"ECO:0000305|PubMed:30979881\"',\n",
       " ' ']"
      ]
     },
     "execution_count": 24,
     "metadata": {},
     "output_type": "execute_result"
    }
   ],
   "source": [
    "df.iloc[0]['Binding site'].split(\"BINDING\")[1].split(\";\")"
   ]
  },
  {
   "cell_type": "code",
   "execution_count": null,
   "id": "25c3e8ff-4d24-40be-87ec-d513120d74ad",
   "metadata": {},
   "outputs": [],
   "source": [
    "../data/processed/uniprot_site_annotation"
   ]
  }
 ],
 "metadata": {
  "kernelspec": {
   "display_name": "Python 3 (ipykernel)",
   "language": "python",
   "name": "python3"
  },
  "language_info": {
   "codemirror_mode": {
    "name": "ipython",
    "version": 3
   },
   "file_extension": ".py",
   "mimetype": "text/x-python",
   "name": "python",
   "nbconvert_exporter": "python",
   "pygments_lexer": "ipython3",
   "version": "3.10.13"
  }
 },
 "nbformat": 4,
 "nbformat_minor": 5
}
