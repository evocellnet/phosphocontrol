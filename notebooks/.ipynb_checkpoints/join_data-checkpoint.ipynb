{
 "cells": [
  {
   "cell_type": "code",
   "execution_count": 1,
   "id": "8847a9b8-437e-45f7-bf6e-c96c4961a465",
   "metadata": {
    "tags": []
   },
   "outputs": [],
   "source": [
    "from pathlib import Path\n",
    "import pandas as pd"
   ]
  },
  {
   "cell_type": "code",
   "execution_count": 2,
   "id": "b9ddc256-c0f6-433a-acb7-654264e54cf8",
   "metadata": {
    "tags": []
   },
   "outputs": [],
   "source": [
    "##########################\n",
    "# Conformational changes #\n",
    "##########################\n",
    "\n",
    "# Backbone comparison\n",
    "rmsd_df = pd.read_csv(\"backbone_comparison/rmsd_merged_df.csv\")\n",
    "\n",
    "####################\n",
    "# Dynamics changes #\n",
    "####################\n",
    "\n",
    "# RMSIPs\n",
    "rmsip_df = pd.read_csv(\"global_dynamics_overview/rmsips_df_nodups.csv\",index_col=0)\n",
    "\n",
    "# Fluctuation correlations\n",
    "flucts_corr_df = pd.read_csv(\"global_dynamics_overview/fluctuations_corr_df_nodups.csv\")\n",
    "\n",
    "# Overall fluctuations\n",
    "flucts_df = pd.read_csv(\"final_dynamics_overview/fluctuations_df_nodups.csv\")\n",
    "# Rename columns\n",
    "col_mapper = {'median_structure_phospho':'median_flucts_phospho',\n",
    "              'median_structure_nonphospho':'median_flucts_nonphospho',\n",
    "             'std_structure_phospho':'std_flucts_phospho',\n",
    "             'std_structure_nonphospho':'std_flucts_nonphospho'}\n",
    "flucts_df.rename(col_mapper,axis=1,inplace=True)\n",
    "\n",
    "flucts_df['fluctuations_diff'] = flucts_df['median_flucts_phospho'] - flucts_df['median_flucts_nonphospho']\n",
    "\n",
    "# Local fluctuations\n",
    "joint_local_dynamics_df = pd.read_csv(\"peak_cutoff_height/joint_local_dynamics_df.csv\")\n",
    "\n",
    "# Phosphosite dynamics\n",
    "psite_dynamics_df = pd.read_csv(\"psite_local_dynamics/psite_dynamics_df.csv\",index_col=0)\n",
    "\n",
    "psite_dynamics_df = psite_dynamics_df.rename({\"-log10_adj_pval\":\"-log10_adj_pval_psite\",\"diffs\":\"psite_fluctuation_diffs\"},axis=1)\n",
    "psite_dynamics_df = psite_dynamics_df[[\"phosphosite\",\"-log10_adj_pval_psite\",\"psite_fluctuation_diffs\"]]\n",
    "\n",
    "# Linear mutual information\n",
    "lmi_df = pd.read_csv(\"final_dynamics_overview/lmi_df_nodups.csv\",index_col=0)\n"
   ]
  },
  {
   "cell_type": "code",
   "execution_count": null,
   "id": "521942ff-81c4-4e30-82fa-5467b3fd6163",
   "metadata": {},
   "outputs": [],
   "source": []
  }
 ],
 "metadata": {
  "kernelspec": {
   "display_name": "Python 3 (ipykernel)",
   "language": "python",
   "name": "python3"
  },
  "language_info": {
   "codemirror_mode": {
    "name": "ipython",
    "version": 3
   },
   "file_extension": ".py",
   "mimetype": "text/x-python",
   "name": "python",
   "nbconvert_exporter": "python",
   "pygments_lexer": "ipython3",
   "version": "3.10.13"
  }
 },
 "nbformat": 4,
 "nbformat_minor": 5
}
