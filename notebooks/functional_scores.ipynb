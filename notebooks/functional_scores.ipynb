{
 "cells": [
  {
   "cell_type": "markdown",
   "id": "f28dc6a9-5f23-4c4b-9977-9d141d1374f7",
   "metadata": {},
   "source": [
    "# Functional scores\n",
    "In this notebook, we look at both human and yeast functional scores in the dataset"
   ]
  },
  {
   "cell_type": "code",
   "execution_count": 1,
   "id": "3d42193d-4715-4257-8b55-a3c3cf3ccf55",
   "metadata": {},
   "outputs": [],
   "source": [
    "from pathlib import Path\n",
    "import pandas as pd\n",
    "import numpy as np\n",
    "import matplotlib.pyplot as plt\n",
    "from time import sleep\n",
    "import requests\n",
    "\n",
    "import matplotlib.pyplot as plt\n",
    "%matplotlib inline\n",
    "import seaborn as sns\n",
    "\n",
    "out_path = Path(\"functional_scores\")\n",
    "out_path.mkdir(exist_ok=True)"
   ]
  },
  {
   "cell_type": "code",
   "execution_count": 2,
   "id": "c102cc29-ead1-4eb0-8dfc-8714384de263",
   "metadata": {},
   "outputs": [],
   "source": [
    "base_path = Path(\"../data/raw\")\n",
    "proc_path = Path(\"../data/processed\")\n",
    "\n",
    "# Phospho pair data\n",
    "ptm_df_path = proc_path /\"pdb_pairs\" / \"filtered_df.csv\"\n",
    "ptm_df = pd.read_csv(ptm_df_path)\n",
    "\n",
    "# SIFTS data linking PDB chains to UniProt IDs\n",
    "sifts_path = base_path / \"sifts\" / \"pdb_chain_uniprot.csv\"\n",
    "sifts_df = pd.read_csv(sifts_path,low_memory=False)\n",
    "\n",
    "# Human functional scores\n",
    "scores_path = base_path / \"functional_scores\" / \"functional_scores.xlsx\"\n",
    "scores_df = pd.read_excel(scores_path)\n",
    "\n",
    "# Yeast functional scores\n",
    "yeast_scores_path = base_path / \"functional_scores\" / \"yeast_functional_score.csv\"\n",
    "yeast_scores_df = pd.read_csv(yeast_scores_path, low_memory=False)"
   ]
  },
  {
   "cell_type": "markdown",
   "id": "c84fd8b8-68e7-444d-a09c-2bddd4c40f45",
   "metadata": {
    "tags": []
   },
   "source": [
    "# Human phosphosites"
   ]
  },
  {
   "cell_type": "code",
   "execution_count": 3,
   "id": "5ba6935a-697a-43ea-af2a-b0e744d10fbf",
   "metadata": {},
   "outputs": [
    {
     "name": "stdout",
     "output_type": "stream",
     "text": [
      "Found 100 proteins with human functional scores\n"
     ]
    }
   ],
   "source": [
    "unique_ptm_prots = set(ptm_df[\"UNIPROT\"])\n",
    "unique_func_prots = set(scores_df[\"uniprot\"])\n",
    "intersection = set.intersection(unique_ptm_prots, unique_func_prots)\n",
    "print(f\"Found {len(intersection)} proteins with human functional scores\")"
   ]
  },
  {
   "cell_type": "code",
   "execution_count": 4,
   "id": "d98d0a42-2162-4a2f-a9a8-9d17f177a0e1",
   "metadata": {},
   "outputs": [],
   "source": [
    "# Keep only proteins within the intersection\n",
    "filt_ptm_df = ptm_df.loc[ptm_df[\"UNIPROT\"].isin(intersection)]"
   ]
  },
  {
   "cell_type": "code",
   "execution_count": 5,
   "id": "e09c8b87-9900-40ed-8699-8ee0b66941f1",
   "metadata": {
    "tags": []
   },
   "outputs": [
    {
     "data": {
      "text/html": [
       "<div>\n",
       "<style scoped>\n",
       "    .dataframe tbody tr th:only-of-type {\n",
       "        vertical-align: middle;\n",
       "    }\n",
       "\n",
       "    .dataframe tbody tr th {\n",
       "        vertical-align: top;\n",
       "    }\n",
       "\n",
       "    .dataframe thead th {\n",
       "        text-align: right;\n",
       "    }\n",
       "</style>\n",
       "<table border=\"1\" class=\"dataframe\">\n",
       "  <thead>\n",
       "    <tr style=\"text-align: right;\">\n",
       "      <th></th>\n",
       "      <th>UNIPROT</th>\n",
       "      <th>UNIPROT_RESIDUE_NUMBER</th>\n",
       "      <th>ENTRY_ID_ONE</th>\n",
       "      <th>AUTH_ASYM_ID_ONE</th>\n",
       "      <th>STRUCT_ASYM_ID_ONE</th>\n",
       "      <th>AUTH_SEQ_ID_ONE</th>\n",
       "      <th>PDB_SEQ_ID_ONE</th>\n",
       "      <th>CHEM_COMP_ONE</th>\n",
       "      <th>ENTRY_ID_TWO</th>\n",
       "      <th>AUTH_ASYM_ID_TWO</th>\n",
       "      <th>...</th>\n",
       "      <th>AUTH_SEQ_ID_TWO</th>\n",
       "      <th>PDB_SEQ_ID_TWO</th>\n",
       "      <th>CHEM_COMP_TWO</th>\n",
       "      <th>AUTH_FULL_ONE</th>\n",
       "      <th>AUTH_FULL_TWO</th>\n",
       "      <th>RENAMED_ASYM_ID_ONE</th>\n",
       "      <th>RENAMED_ASYM_ID_TWO</th>\n",
       "      <th>RENAMED_ENTITY_ONE</th>\n",
       "      <th>RENAMED_ENTITY_TWO</th>\n",
       "      <th>PHOSPHOSITE</th>\n",
       "    </tr>\n",
       "  </thead>\n",
       "  <tbody>\n",
       "    <tr>\n",
       "      <th>0</th>\n",
       "      <td>P24941</td>\n",
       "      <td>160</td>\n",
       "      <td>2r3p</td>\n",
       "      <td>A</td>\n",
       "      <td>A</td>\n",
       "      <td>160.0</td>\n",
       "      <td>161</td>\n",
       "      <td>THR</td>\n",
       "      <td>5nev</td>\n",
       "      <td>C</td>\n",
       "      <td>...</td>\n",
       "      <td>160.0</td>\n",
       "      <td>165</td>\n",
       "      <td>TPO</td>\n",
       "      <td>2r3p_A</td>\n",
       "      <td>5nev_C</td>\n",
       "      <td>A</td>\n",
       "      <td>C</td>\n",
       "      <td>2r3p_A</td>\n",
       "      <td>5nev_C</td>\n",
       "      <td>P24941_160</td>\n",
       "    </tr>\n",
       "    <tr>\n",
       "      <th>1</th>\n",
       "      <td>P24941</td>\n",
       "      <td>160</td>\n",
       "      <td>2r3p</td>\n",
       "      <td>A</td>\n",
       "      <td>A</td>\n",
       "      <td>160.0</td>\n",
       "      <td>161</td>\n",
       "      <td>THR</td>\n",
       "      <td>2g9x</td>\n",
       "      <td>A</td>\n",
       "      <td>...</td>\n",
       "      <td>160.0</td>\n",
       "      <td>161</td>\n",
       "      <td>TPO</td>\n",
       "      <td>2r3p_A</td>\n",
       "      <td>2g9x_A</td>\n",
       "      <td>A</td>\n",
       "      <td>A</td>\n",
       "      <td>2r3p_A</td>\n",
       "      <td>2g9x_A</td>\n",
       "      <td>P24941_160</td>\n",
       "    </tr>\n",
       "    <tr>\n",
       "      <th>2</th>\n",
       "      <td>P24941</td>\n",
       "      <td>160</td>\n",
       "      <td>2r3p</td>\n",
       "      <td>A</td>\n",
       "      <td>A</td>\n",
       "      <td>160.0</td>\n",
       "      <td>161</td>\n",
       "      <td>THR</td>\n",
       "      <td>2wma</td>\n",
       "      <td>A</td>\n",
       "      <td>...</td>\n",
       "      <td>160.0</td>\n",
       "      <td>165</td>\n",
       "      <td>TPO</td>\n",
       "      <td>2r3p_A</td>\n",
       "      <td>2wma_A</td>\n",
       "      <td>A</td>\n",
       "      <td>A</td>\n",
       "      <td>2r3p_A</td>\n",
       "      <td>2wma_A</td>\n",
       "      <td>P24941_160</td>\n",
       "    </tr>\n",
       "    <tr>\n",
       "      <th>3</th>\n",
       "      <td>P24941</td>\n",
       "      <td>160</td>\n",
       "      <td>2r3p</td>\n",
       "      <td>A</td>\n",
       "      <td>A</td>\n",
       "      <td>160.0</td>\n",
       "      <td>161</td>\n",
       "      <td>THR</td>\n",
       "      <td>2uzb</td>\n",
       "      <td>A</td>\n",
       "      <td>...</td>\n",
       "      <td>160.0</td>\n",
       "      <td>160</td>\n",
       "      <td>TPO</td>\n",
       "      <td>2r3p_A</td>\n",
       "      <td>2uzb_A</td>\n",
       "      <td>A</td>\n",
       "      <td>A</td>\n",
       "      <td>2r3p_A</td>\n",
       "      <td>2uzb_A</td>\n",
       "      <td>P24941_160</td>\n",
       "    </tr>\n",
       "    <tr>\n",
       "      <th>4</th>\n",
       "      <td>P28482</td>\n",
       "      <td>187</td>\n",
       "      <td>4qp4</td>\n",
       "      <td>A</td>\n",
       "      <td>A</td>\n",
       "      <td>187.0</td>\n",
       "      <td>196</td>\n",
       "      <td>TYR</td>\n",
       "      <td>6opg</td>\n",
       "      <td>A</td>\n",
       "      <td>...</td>\n",
       "      <td>185.0</td>\n",
       "      <td>181</td>\n",
       "      <td>PTR</td>\n",
       "      <td>4qp4_A</td>\n",
       "      <td>6opg_A</td>\n",
       "      <td>A</td>\n",
       "      <td>A</td>\n",
       "      <td>4qp4_A</td>\n",
       "      <td>6opg_A</td>\n",
       "      <td>P28482_187</td>\n",
       "    </tr>\n",
       "    <tr>\n",
       "      <th>...</th>\n",
       "      <td>...</td>\n",
       "      <td>...</td>\n",
       "      <td>...</td>\n",
       "      <td>...</td>\n",
       "      <td>...</td>\n",
       "      <td>...</td>\n",
       "      <td>...</td>\n",
       "      <td>...</td>\n",
       "      <td>...</td>\n",
       "      <td>...</td>\n",
       "      <td>...</td>\n",
       "      <td>...</td>\n",
       "      <td>...</td>\n",
       "      <td>...</td>\n",
       "      <td>...</td>\n",
       "      <td>...</td>\n",
       "      <td>...</td>\n",
       "      <td>...</td>\n",
       "      <td>...</td>\n",
       "      <td>...</td>\n",
       "      <td>...</td>\n",
       "    </tr>\n",
       "    <tr>\n",
       "      <th>135109</th>\n",
       "      <td>P48730</td>\n",
       "      <td>220</td>\n",
       "      <td>3uyt</td>\n",
       "      <td>B</td>\n",
       "      <td>B</td>\n",
       "      <td>220.0</td>\n",
       "      <td>222</td>\n",
       "      <td>THR</td>\n",
       "      <td>6f1w</td>\n",
       "      <td>A</td>\n",
       "      <td>...</td>\n",
       "      <td>220.0</td>\n",
       "      <td>240</td>\n",
       "      <td>TPO</td>\n",
       "      <td>3uyt_B</td>\n",
       "      <td>6f1w_A</td>\n",
       "      <td>B</td>\n",
       "      <td>A</td>\n",
       "      <td>3uyt_B</td>\n",
       "      <td>6f1w_A</td>\n",
       "      <td>P48730_220</td>\n",
       "    </tr>\n",
       "    <tr>\n",
       "      <th>135110</th>\n",
       "      <td>P0CG47</td>\n",
       "      <td>217</td>\n",
       "      <td>5ulk</td>\n",
       "      <td>B</td>\n",
       "      <td>B</td>\n",
       "      <td>65.0</td>\n",
       "      <td>65</td>\n",
       "      <td>SER</td>\n",
       "      <td>4wzp</td>\n",
       "      <td>A</td>\n",
       "      <td>...</td>\n",
       "      <td>65.0</td>\n",
       "      <td>65</td>\n",
       "      <td>SEP</td>\n",
       "      <td>5ulk_B</td>\n",
       "      <td>4wzp_A</td>\n",
       "      <td>B</td>\n",
       "      <td>A</td>\n",
       "      <td>5ulk_B</td>\n",
       "      <td>4wzp_A</td>\n",
       "      <td>P0CG47_217</td>\n",
       "    </tr>\n",
       "    <tr>\n",
       "      <th>135111</th>\n",
       "      <td>P0CG47</td>\n",
       "      <td>217</td>\n",
       "      <td>5ulk</td>\n",
       "      <td>B</td>\n",
       "      <td>B</td>\n",
       "      <td>65.0</td>\n",
       "      <td>65</td>\n",
       "      <td>SER</td>\n",
       "      <td>5n2w</td>\n",
       "      <td>B</td>\n",
       "      <td>...</td>\n",
       "      <td>65.0</td>\n",
       "      <td>65</td>\n",
       "      <td>SEP</td>\n",
       "      <td>5ulk_B</td>\n",
       "      <td>5n2w_B</td>\n",
       "      <td>B</td>\n",
       "      <td>B</td>\n",
       "      <td>5ulk_B</td>\n",
       "      <td>5n2w_B</td>\n",
       "      <td>P0CG47_217</td>\n",
       "    </tr>\n",
       "    <tr>\n",
       "      <th>135120</th>\n",
       "      <td>P24941</td>\n",
       "      <td>160</td>\n",
       "      <td>3qx2</td>\n",
       "      <td>A</td>\n",
       "      <td>A</td>\n",
       "      <td>160.0</td>\n",
       "      <td>168</td>\n",
       "      <td>THR</td>\n",
       "      <td>3bhv</td>\n",
       "      <td>C</td>\n",
       "      <td>...</td>\n",
       "      <td>160.0</td>\n",
       "      <td>162</td>\n",
       "      <td>TPO</td>\n",
       "      <td>3qx2_A</td>\n",
       "      <td>3bhv_C</td>\n",
       "      <td>A</td>\n",
       "      <td>C</td>\n",
       "      <td>3qx2_A</td>\n",
       "      <td>3bhv_C</td>\n",
       "      <td>P24941_160</td>\n",
       "    </tr>\n",
       "    <tr>\n",
       "      <th>135121</th>\n",
       "      <td>P24941</td>\n",
       "      <td>160</td>\n",
       "      <td>3qx2</td>\n",
       "      <td>A</td>\n",
       "      <td>A</td>\n",
       "      <td>160.0</td>\n",
       "      <td>168</td>\n",
       "      <td>THR</td>\n",
       "      <td>4cfv</td>\n",
       "      <td>C</td>\n",
       "      <td>...</td>\n",
       "      <td>160.0</td>\n",
       "      <td>165</td>\n",
       "      <td>TPO</td>\n",
       "      <td>3qx2_A</td>\n",
       "      <td>4cfv_C</td>\n",
       "      <td>A</td>\n",
       "      <td>C</td>\n",
       "      <td>3qx2_A</td>\n",
       "      <td>4cfv_C</td>\n",
       "      <td>P24941_160</td>\n",
       "    </tr>\n",
       "  </tbody>\n",
       "</table>\n",
       "<p>107415 rows × 21 columns</p>\n",
       "</div>"
      ],
      "text/plain": [
       "       UNIPROT  UNIPROT_RESIDUE_NUMBER ENTRY_ID_ONE AUTH_ASYM_ID_ONE  \\\n",
       "0       P24941                     160         2r3p                A   \n",
       "1       P24941                     160         2r3p                A   \n",
       "2       P24941                     160         2r3p                A   \n",
       "3       P24941                     160         2r3p                A   \n",
       "4       P28482                     187         4qp4                A   \n",
       "...        ...                     ...          ...              ...   \n",
       "135109  P48730                     220         3uyt                B   \n",
       "135110  P0CG47                     217         5ulk                B   \n",
       "135111  P0CG47                     217         5ulk                B   \n",
       "135120  P24941                     160         3qx2                A   \n",
       "135121  P24941                     160         3qx2                A   \n",
       "\n",
       "       STRUCT_ASYM_ID_ONE  AUTH_SEQ_ID_ONE  PDB_SEQ_ID_ONE CHEM_COMP_ONE  \\\n",
       "0                       A            160.0             161           THR   \n",
       "1                       A            160.0             161           THR   \n",
       "2                       A            160.0             161           THR   \n",
       "3                       A            160.0             161           THR   \n",
       "4                       A            187.0             196           TYR   \n",
       "...                   ...              ...             ...           ...   \n",
       "135109                  B            220.0             222           THR   \n",
       "135110                  B             65.0              65           SER   \n",
       "135111                  B             65.0              65           SER   \n",
       "135120                  A            160.0             168           THR   \n",
       "135121                  A            160.0             168           THR   \n",
       "\n",
       "       ENTRY_ID_TWO AUTH_ASYM_ID_TWO  ... AUTH_SEQ_ID_TWO  PDB_SEQ_ID_TWO  \\\n",
       "0              5nev                C  ...           160.0             165   \n",
       "1              2g9x                A  ...           160.0             161   \n",
       "2              2wma                A  ...           160.0             165   \n",
       "3              2uzb                A  ...           160.0             160   \n",
       "4              6opg                A  ...           185.0             181   \n",
       "...             ...              ...  ...             ...             ...   \n",
       "135109         6f1w                A  ...           220.0             240   \n",
       "135110         4wzp                A  ...            65.0              65   \n",
       "135111         5n2w                B  ...            65.0              65   \n",
       "135120         3bhv                C  ...           160.0             162   \n",
       "135121         4cfv                C  ...           160.0             165   \n",
       "\n",
       "        CHEM_COMP_TWO AUTH_FULL_ONE AUTH_FULL_TWO RENAMED_ASYM_ID_ONE  \\\n",
       "0                 TPO        2r3p_A        5nev_C                   A   \n",
       "1                 TPO        2r3p_A        2g9x_A                   A   \n",
       "2                 TPO        2r3p_A        2wma_A                   A   \n",
       "3                 TPO        2r3p_A        2uzb_A                   A   \n",
       "4                 PTR        4qp4_A        6opg_A                   A   \n",
       "...               ...           ...           ...                 ...   \n",
       "135109            TPO        3uyt_B        6f1w_A                   B   \n",
       "135110            SEP        5ulk_B        4wzp_A                   B   \n",
       "135111            SEP        5ulk_B        5n2w_B                   B   \n",
       "135120            TPO        3qx2_A        3bhv_C                   A   \n",
       "135121            TPO        3qx2_A        4cfv_C                   A   \n",
       "\n",
       "       RENAMED_ASYM_ID_TWO RENAMED_ENTITY_ONE RENAMED_ENTITY_TWO PHOSPHOSITE  \n",
       "0                        C             2r3p_A             5nev_C  P24941_160  \n",
       "1                        A             2r3p_A             2g9x_A  P24941_160  \n",
       "2                        A             2r3p_A             2wma_A  P24941_160  \n",
       "3                        A             2r3p_A             2uzb_A  P24941_160  \n",
       "4                        A             4qp4_A             6opg_A  P28482_187  \n",
       "...                    ...                ...                ...         ...  \n",
       "135109                   A             3uyt_B             6f1w_A  P48730_220  \n",
       "135110                   A             5ulk_B             4wzp_A  P0CG47_217  \n",
       "135111                   B             5ulk_B             5n2w_B  P0CG47_217  \n",
       "135120                   C             3qx2_A             3bhv_C  P24941_160  \n",
       "135121                   C             3qx2_A             4cfv_C  P24941_160  \n",
       "\n",
       "[107415 rows x 21 columns]"
      ]
     },
     "execution_count": 5,
     "metadata": {},
     "output_type": "execute_result"
    }
   ],
   "source": [
    "filt_ptm_df"
   ]
  },
  {
   "cell_type": "code",
   "execution_count": 6,
   "id": "39b18f8d-5c77-47fb-9f62-f358a021b99f",
   "metadata": {},
   "outputs": [
    {
     "name": "stdout",
     "output_type": "stream",
     "text": [
      "Found 2932 unique PDB IDs within the intersection\n"
     ]
    }
   ],
   "source": [
    "set1 = set(filt_ptm_df[\"ENTRY_ID_ONE\"].unique())\n",
    "set2 = set(filt_ptm_df[\"ENTRY_ID_TWO\"].unique())\n",
    "all_pdb_ids = set.union(set1,set2)\n",
    "print(f\"Found {len(all_pdb_ids)} unique PDB IDs within the intersection\")"
   ]
  },
  {
   "cell_type": "code",
   "execution_count": 7,
   "id": "f3b9513f-3396-4d30-8af3-ff9be8f366bb",
   "metadata": {},
   "outputs": [],
   "source": [
    "mapper = {\"uniprot\":\"UNIPROT\", \"position\":\"UNIPROT_RESIDUE_NUMBER\"}\n",
    "scores_df = scores_df.rename(mapper=mapper,axis=1)"
   ]
  },
  {
   "cell_type": "code",
   "execution_count": 8,
   "id": "11690df2-43c8-4cb1-9aa4-7a3da2b1b950",
   "metadata": {},
   "outputs": [],
   "source": [
    "scores_dict = {}\n",
    "not_found = []\n",
    "\n",
    "for idx, row in filt_ptm_df.iterrows():\n",
    "    uniprot_id = row[\"UNIPROT\"]\n",
    "    residue = row[\"UNIPROT_RESIDUE_NUMBER\"]\n",
    "    combined = f\"{uniprot_id}_{residue}\"\n",
    "    if (combined not in scores_dict.keys()) and (combined not in not_found) :\n",
    "        match = scores_df.loc[(scores_df[\"UNIPROT\"]==uniprot_id) & (scores_df[\"UNIPROT_RESIDUE_NUMBER\"]==residue)]\n",
    "        if len(match) == 1:\n",
    "            score = float(match[\"functional_score\"])\n",
    "            scores_dict[combined] = score\n",
    "        else:\n",
    "            not_found.append(combined)"
   ]
  },
  {
   "cell_type": "code",
   "execution_count": 9,
   "id": "ca8d3cd8-cd66-49c6-af07-a69898b1ea27",
   "metadata": {},
   "outputs": [
    {
     "name": "stdout",
     "output_type": "stream",
     "text": [
      "Number of phosphosites found: 77\n",
      "Number of phosphosites not found: 85\n"
     ]
    }
   ],
   "source": [
    "print(f\"Number of phosphosites found: {len(scores_dict)}\")\n",
    "print(f\"Number of phosphosites not found: {len(not_found)}\")"
   ]
  },
  {
   "cell_type": "code",
   "execution_count": 10,
   "id": "da25ef97-b301-4b37-adac-204851e814a9",
   "metadata": {
    "tags": []
   },
   "outputs": [],
   "source": [
    "human_scores_df = pd.DataFrame.from_dict(scores_dict,orient='index',columns=[\"functional_score\"])\n",
    "human_scores_df[\"organism\"] = \"human\""
   ]
  },
  {
   "cell_type": "code",
   "execution_count": 11,
   "id": "96be8245-4630-432e-ab3a-2579ca8d0979",
   "metadata": {},
   "outputs": [
    {
     "data": {
      "image/png": "[encoded data removed]",
      "text/plain": [
       "<Figure size 640x480 with 1 Axes>"
      ]
     },
     "metadata": {},
     "output_type": "display_data"
    }
   ],
   "source": [
    "sns.set_context('notebook')\n",
    "sns.kdeplot(scores_dict.values(),fill=True,label=\"Dataset\",cut=1)\n",
    "sns.kdeplot(scores_df[\"functional_score\"],fill=True,label='Background',cut=1)\n",
    "\n",
    "plt.xlabel(\"Functional score\")\n",
    "\n",
    "plt.axvline(np.median(list(scores_dict.values())),ls='--',color='blue')\n",
    "plt.axvline(np.median(scores_df[\"functional_score\"]), ls=\"--\",color='orange')\n",
    "\n",
    "plt.xlim(0,1)\n",
    "\n",
    "plt.title(\"Human functional scores\")\n",
    "plt.legend(loc='upper center')\n",
    "sns.despine()\n",
    "\n",
    "plt.savefig(out_path / \"human_functional_score_pairs.png\",dpi=120,bbox_inches='tight')"
   ]
  },
  {
   "cell_type": "markdown",
   "id": "576d03bd-51e8-4abd-b3a0-5b1f15574f0e",
   "metadata": {},
   "source": [
    "# Yeast phosphosites"
   ]
  },
  {
   "cell_type": "code",
   "execution_count": 12,
   "id": "4c0f4fde-44ba-4aaf-8f74-70a069c481a6",
   "metadata": {
    "tags": []
   },
   "outputs": [],
   "source": [
    "# Map SGD IDs to UniProt IDs\n",
    "id_conversion_df = pd.read_csv(\"../data/raw/functional_scores/gProfiler_scerevisiae.csv\")\n",
    "\n",
    "sgd_to_uniprot = {}\n",
    "\n",
    "for idx, row in id_conversion_df.iterrows():\n",
    "    sgd_id = row[\"initial_alias\"]\n",
    "    uniprot_id = row[\"converted_alias\"]\n",
    "    if uniprot_id != \"None\":\n",
    "        sgd_to_uniprot[sgd_id] = uniprot_id\n",
    "        \n",
    "# Reverse the dict\n",
    "uniprot_to_sgd = {v:k for k,v in sgd_to_uniprot.items()}\n",
    "\n"
   ]
  },
  {
   "cell_type": "code",
   "execution_count": 13,
   "id": "ef60b035-3b89-4238-a423-47f57dc0e4dd",
   "metadata": {
    "tags": []
   },
   "outputs": [],
   "source": [
    "yeast_unique_func_prots_sgd = set(yeast_scores_df[\"acc\"])\n",
    "\n",
    "yeast_unique_func_prots = set()\n",
    "not_found = set()\n",
    "for sgd_id in yeast_unique_func_prots_sgd:\n",
    "    try:\n",
    "        yeast_unique_func_prots.add(sgd_to_uniprot[sgd_id])\n",
    "    except KeyError:\n",
    "        not_found.add(sgd_id)\n",
    "\n"
   ]
  },
  {
   "cell_type": "code",
   "execution_count": 14,
   "id": "7d279a8e-dd91-4d12-a37e-b503e5904144",
   "metadata": {},
   "outputs": [
    {
     "name": "stdout",
     "output_type": "stream",
     "text": [
      "Found 5 proteins with functional scores\n",
      "['YBR223C', 'YBL016W', 'YNL088W', 'YEL056W', 'YDR001C']\n"
     ]
    }
   ],
   "source": [
    "yeast_intersection = set.intersection(unique_ptm_prots, yeast_unique_func_prots)\n",
    "print(f\"Found {len(yeast_intersection)} proteins with functional scores\")\n",
    "\n",
    "# Convert these proteins back to their original IDs\n",
    "sgd_yeast_intersection = [uniprot_to_sgd[x] for x in yeast_intersection]\n",
    "print(sgd_yeast_intersection)\n"
   ]
  },
  {
   "cell_type": "code",
   "execution_count": 15,
   "id": "439b79d4-7414-47d7-9663-65bc271a750b",
   "metadata": {},
   "outputs": [
    {
     "name": "stderr",
     "output_type": "stream",
     "text": [
      "/tmp/ipykernel_197151/220389130.py:5: SettingWithCopyWarning: \n",
      "A value is trying to be set on a copy of a slice from a DataFrame.\n",
      "Try using .loc[row_indexer,col_indexer] = value instead\n",
      "\n",
      "See the caveats in the documentation: https://pandas.pydata.org/pandas-docs/stable/user_guide/indexing.html#returning-a-view-versus-a-copy\n",
      "  subset_yeast_scores_df[\"PROTEIN\"] = uniprot_ids\n"
     ]
    }
   ],
   "source": [
    "subset_yeast_scores_df = yeast_scores_df.loc[yeast_scores_df[\"acc\"].isin(sgd_yeast_intersection)]\n",
    "# Add a column with the Uniprot IDs\n",
    "\n",
    "uniprot_ids = [sgd_to_uniprot[x] for x in list(subset_yeast_scores_df[\"acc\"])]\n",
    "subset_yeast_scores_df[\"PROTEIN\"] = uniprot_ids\n"
   ]
  },
  {
   "cell_type": "code",
   "execution_count": 16,
   "id": "c87ce727-ef94-4482-a07f-41bcea3fec61",
   "metadata": {
    "tags": []
   },
   "outputs": [
    {
     "name": "stderr",
     "output_type": "stream",
     "text": [
      "/tmp/ipykernel_197151/3341571092.py:1: SettingWithCopyWarning: \n",
      "A value is trying to be set on a copy of a slice from a DataFrame.\n",
      "Try using .loc[row_indexer,col_indexer] = value instead\n",
      "\n",
      "See the caveats in the documentation: https://pandas.pydata.org/pandas-docs/stable/user_guide/indexing.html#returning-a-view-versus-a-copy\n",
      "  subset_yeast_scores_df[\"phosphosite\"] = subset_yeast_scores_df[\"PROTEIN\"] + \"_\" + subset_yeast_scores_df[\"position\"].astype(str)\n"
     ]
    }
   ],
   "source": [
    "subset_yeast_scores_df[\"phosphosite\"] = subset_yeast_scores_df[\"PROTEIN\"] + \"_\" + subset_yeast_scores_df[\"position\"].astype(str)"
   ]
  },
  {
   "cell_type": "code",
   "execution_count": 18,
   "id": "822eb0f5-6446-4dfa-a719-48bff5a01167",
   "metadata": {
    "tags": []
   },
   "outputs": [
    {
     "name": "stderr",
     "output_type": "stream",
     "text": [
      "/tmp/ipykernel_197151/1070638627.py:2: SettingWithCopyWarning: \n",
      "A value is trying to be set on a copy of a slice from a DataFrame.\n",
      "Try using .loc[row_indexer,col_indexer] = value instead\n",
      "\n",
      "See the caveats in the documentation: https://pandas.pydata.org/pandas-docs/stable/user_guide/indexing.html#returning-a-view-versus-a-copy\n",
      "  yeast_ptm_df[\"phosphosite\"] = yeast_ptm_df[\"UNIPROT\"] + \"_\" + yeast_ptm_df[\"UNIPROT_RESIDUE_NUMBER\"].astype(str)\n"
     ]
    }
   ],
   "source": [
    "yeast_ptm_df = ptm_df.loc[ptm_df[\"UNIPROT\"].isin(yeast_intersection)]\n",
    "yeast_ptm_df[\"phosphosite\"] = yeast_ptm_df[\"UNIPROT\"] + \"_\" + yeast_ptm_df[\"UNIPROT_RESIDUE_NUMBER\"].astype(str)"
   ]
  },
  {
   "cell_type": "code",
   "execution_count": null,
   "id": "b7e85198-cf9a-496a-94bc-c4f78b0f0337",
   "metadata": {
    "tags": []
   },
   "outputs": [],
   "source": []
  },
  {
   "cell_type": "code",
   "execution_count": 19,
   "id": "3c44b248-ece2-4810-b99b-7d979ca9798b",
   "metadata": {
    "tags": []
   },
   "outputs": [],
   "source": [
    "psite_idxs = []\n",
    "found_psites = set()\n",
    "for idx, row in yeast_ptm_df.iterrows():\n",
    "    psite = row[\"phosphosite\"]\n",
    "    match = subset_yeast_scores_df.loc[subset_yeast_scores_df[\"phosphosite\"]==psite]\n",
    "    if not match.empty:\n",
    "        psite_idxs.append(idx)\n",
    "        found_psites.add(psite)\n",
    "\n",
    "print(found_psites)"
   ]
  },
  {
   "cell_type": "code",
   "execution_count": null,
   "id": "51dcfb94-f6ed-484e-83b7-17009c8c66bb",
   "metadata": {
    "tags": []
   },
   "outputs": [],
   "source": []
  },
  {
   "cell_type": "code",
   "execution_count": 21,
   "id": "b8942995-e789-469f-bb86-18dedb7c5279",
   "metadata": {
    "tags": []
   },
   "outputs": [],
   "source": [
    "yeast_scores_in_data = subset_yeast_scores_df.loc[subset_yeast_scores_df[\"phosphosite\"].isin(found_psites)]\n",
    "yeast_scores_in_data[\"organism\"] = \"yeast\""
   ]
  },
  {
   "cell_type": "code",
   "execution_count": 23,
   "id": "1674e0d4-003d-4bf8-aac9-9c5db2b5db0d",
   "metadata": {
    "tags": []
   },
   "outputs": [
    {
     "data": {
      "image/png": "[encoded data removed]",
      "text/plain": [
       "<Figure size 640x480 with 1 Axes>"
      ]
     },
     "metadata": {},
     "output_type": "display_data"
    }
   ],
   "source": [
    "sns.kdeplot(yeast_scores_in_data[\"functional_score\"],label=\"Dataset\",fill=True)\n",
    "sns.kdeplot(yeast_scores_df[\"functional_score\"],label=\"Background\",fill=True,cut=1)\n",
    "plt.legend(loc=\"best\")\n",
    "sns.despine()\n",
    "\n",
    "plt.xlim(0,1)\n",
    "\n",
    "plt.axvline(yeast_scores_in_data[\"functional_score\"].median(),ls='--')\n",
    "plt.axvline(yeast_scores_df[\"functional_score\"].median(),ls='--',color='orange')\n",
    "\n",
    "plt.legend(loc='upper center')\n",
    "plt.xlabel(\"Functional score\")\n",
    "\n",
    "plt.title(\"Yeast functional scores\")\n",
    "\n",
    "plt.savefig(out_path / \"yeast_functional_scores.png\",dpi=120,bbox_inches='tight')"
   ]
  },
  {
   "cell_type": "code",
   "execution_count": null,
   "id": "68fdf8af-0ecf-4d71-b611-a3c1ee6cd05a",
   "metadata": {
    "tags": []
   },
   "outputs": [],
   "source": []
  },
  {
   "cell_type": "code",
   "execution_count": 24,
   "id": "fb58559a-5bfa-472b-90b2-a585bd17fd01",
   "metadata": {},
   "outputs": [
    {
     "data": {
      "text/html": [
       "<div>\n",
       "<style scoped>\n",
       "    .dataframe tbody tr th:only-of-type {\n",
       "        vertical-align: middle;\n",
       "    }\n",
       "\n",
       "    .dataframe tbody tr th {\n",
       "        vertical-align: top;\n",
       "    }\n",
       "\n",
       "    .dataframe thead th {\n",
       "        text-align: right;\n",
       "    }\n",
       "</style>\n",
       "<table border=\"1\" class=\"dataframe\">\n",
       "  <thead>\n",
       "    <tr style=\"text-align: right;\">\n",
       "      <th></th>\n",
       "      <th>functional_score</th>\n",
       "      <th>organism</th>\n",
       "    </tr>\n",
       "  </thead>\n",
       "  <tbody>\n",
       "    <tr>\n",
       "      <th>P24941_160</th>\n",
       "      <td>0.883129</td>\n",
       "      <td>human</td>\n",
       "    </tr>\n",
       "    <tr>\n",
       "      <th>P28482_187</th>\n",
       "      <td>0.987901</td>\n",
       "      <td>human</td>\n",
       "    </tr>\n",
       "    <tr>\n",
       "      <th>P49841_216</th>\n",
       "      <td>0.860796</td>\n",
       "      <td>human</td>\n",
       "    </tr>\n",
       "    <tr>\n",
       "      <th>Q9NWZ3_342</th>\n",
       "      <td>0.544342</td>\n",
       "      <td>human</td>\n",
       "    </tr>\n",
       "    <tr>\n",
       "      <th>O14965_288</th>\n",
       "      <td>0.981411</td>\n",
       "      <td>human</td>\n",
       "    </tr>\n",
       "    <tr>\n",
       "      <th>...</th>\n",
       "      <td>...</td>\n",
       "      <td>...</td>\n",
       "    </tr>\n",
       "    <tr>\n",
       "      <th>Q07955_201</th>\n",
       "      <td>0.634719</td>\n",
       "      <td>human</td>\n",
       "    </tr>\n",
       "    <tr>\n",
       "      <th>P15056_729</th>\n",
       "      <td>0.785771</td>\n",
       "      <td>human</td>\n",
       "    </tr>\n",
       "    <tr>\n",
       "      <th>P78527_2609</th>\n",
       "      <td>0.444460</td>\n",
       "      <td>human</td>\n",
       "    </tr>\n",
       "    <tr>\n",
       "      <th>P78527_2638</th>\n",
       "      <td>0.368006</td>\n",
       "      <td>human</td>\n",
       "    </tr>\n",
       "    <tr>\n",
       "      <th>O75533_129</th>\n",
       "      <td>0.567922</td>\n",
       "      <td>human</td>\n",
       "    </tr>\n",
       "  </tbody>\n",
       "</table>\n",
       "<p>77 rows × 2 columns</p>\n",
       "</div>"
      ],
      "text/plain": [
       "             functional_score organism\n",
       "P24941_160           0.883129    human\n",
       "P28482_187           0.987901    human\n",
       "P49841_216           0.860796    human\n",
       "Q9NWZ3_342           0.544342    human\n",
       "O14965_288           0.981411    human\n",
       "...                       ...      ...\n",
       "Q07955_201           0.634719    human\n",
       "P15056_729           0.785771    human\n",
       "P78527_2609          0.444460    human\n",
       "P78527_2638          0.368006    human\n",
       "O75533_129           0.567922    human\n",
       "\n",
       "[77 rows x 2 columns]"
      ]
     },
     "execution_count": 24,
     "metadata": {},
     "output_type": "execute_result"
    }
   ],
   "source": [
    "human_scores_df"
   ]
  },
  {
   "cell_type": "code",
   "execution_count": 25,
   "id": "ec8465ec-5245-49fa-be3b-d9f89b19b5a7",
   "metadata": {
    "tags": []
   },
   "outputs": [],
   "source": [
    "yeast_scores_df = yeast_scores_in_data.drop([\"site\",\"acc\",\"position\",\"PROTEIN\"],axis=1)\n",
    "yeast_scores_df = yeast_scores_df[[\"phosphosite\",\"functional_score\",\"organism\"]]\n",
    "yeast_scores_df = yeast_scores_df.reset_index()\n",
    "yeast_scores_df.drop([\"index\"],axis=1,inplace=True)"
   ]
  },
  {
   "cell_type": "code",
   "execution_count": 26,
   "id": "1aa63037-37ee-4fa6-a89b-d2acdb15659c",
   "metadata": {
    "tags": []
   },
   "outputs": [
    {
     "data": {
      "text/html": [
       "<div>\n",
       "<style scoped>\n",
       "    .dataframe tbody tr th:only-of-type {\n",
       "        vertical-align: middle;\n",
       "    }\n",
       "\n",
       "    .dataframe tbody tr th {\n",
       "        vertical-align: top;\n",
       "    }\n",
       "\n",
       "    .dataframe thead th {\n",
       "        text-align: right;\n",
       "    }\n",
       "</style>\n",
       "<table border=\"1\" class=\"dataframe\">\n",
       "  <thead>\n",
       "    <tr style=\"text-align: right;\">\n",
       "      <th></th>\n",
       "      <th>phosphosite</th>\n",
       "      <th>functional_score</th>\n",
       "      <th>organism</th>\n",
       "    </tr>\n",
       "  </thead>\n",
       "  <tbody>\n",
       "    <tr>\n",
       "      <th>0</th>\n",
       "      <td>P32356_60</td>\n",
       "      <td>0.960420</td>\n",
       "      <td>yeast</td>\n",
       "    </tr>\n",
       "    <tr>\n",
       "      <th>1</th>\n",
       "      <td>P32356_83</td>\n",
       "      <td>0.935694</td>\n",
       "      <td>yeast</td>\n",
       "    </tr>\n",
       "    <tr>\n",
       "      <th>2</th>\n",
       "      <td>P16892_182</td>\n",
       "      <td>0.787743</td>\n",
       "      <td>yeast</td>\n",
       "    </tr>\n",
       "  </tbody>\n",
       "</table>\n",
       "</div>"
      ],
      "text/plain": [
       "  phosphosite  functional_score organism\n",
       "0   P32356_60          0.960420    yeast\n",
       "1   P32356_83          0.935694    yeast\n",
       "2  P16892_182          0.787743    yeast"
      ]
     },
     "execution_count": 26,
     "metadata": {},
     "output_type": "execute_result"
    }
   ],
   "source": [
    "yeast_scores_df"
   ]
  },
  {
   "cell_type": "code",
   "execution_count": 27,
   "id": "0dfc03b1-4820-4e22-b797-078dac2912d6",
   "metadata": {
    "tags": []
   },
   "outputs": [],
   "source": [
    "human_scores_df[\"phosphosite\"] = list(human_scores_df.index)\n",
    "human_scores_df = human_scores_df[[\"phosphosite\",\"functional_score\",\"organism\"]]\n",
    "human_scores_df = human_scores_df[[\"phosphosite\",\"functional_score\",\"organism\"]]\n",
    "human_scores_df = human_scores_df.reset_index()\n",
    "human_scores_df.drop([\"index\"],axis=1,inplace=True)\n",
    "final_df = pd.concat([human_scores_df,yeast_scores_df])\n",
    "final_df.to_csv(\"functional_scores.csv\",index=None)"
   ]
  },
  {
   "cell_type": "code",
   "execution_count": 28,
   "id": "b04f697d-ed89-41bc-b79f-4743e260bda7",
   "metadata": {
    "tags": []
   },
   "outputs": [],
   "source": []
  }
 ],
 "metadata": {
  "kernelspec": {
   "display_name": "Python 3 (ipykernel)",
   "language": "python",
   "name": "python3"
  },
  "language_info": {
   "codemirror_mode": {
    "name": "ipython",
    "version": 3
   },
   "file_extension": ".py",
   "mimetype": "text/x-python",
   "name": "python",
   "nbconvert_exporter": "python",
   "pygments_lexer": "ipython3",
   "version": "3.10.13"
  }
 },
 "nbformat": 4,
 "nbformat_minor": 5
}
