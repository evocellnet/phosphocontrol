{
 "cells": [
  {
   "cell_type": "markdown",
   "id": "af1b4dc1-dc13-47ef-ba6f-2b87f39e7c08",
   "metadata": {},
   "source": [
    "# Retrieve lead author data\n",
    "Parse CIF files to get the name of the last author"
   ]
  },
  {
   "cell_type": "code",
   "execution_count": 1,
   "id": "76f29ad4-07c0-4071-a7f3-cae597eaa180",
   "metadata": {
    "tags": []
   },
   "outputs": [],
   "source": [
    "from pathlib import Path\n",
    "import pandas as pd\n",
    "from collections import Counter\n",
    "from Bio.PDB.MMCIF2Dict import MMCIF2Dict\n",
    "from tqdm import tqdm"
   ]
  },
  {
   "cell_type": "code",
   "execution_count": 2,
   "id": "0f7ee943-3faf-49b5-839f-60abf5a28a92",
   "metadata": {
    "tags": []
   },
   "outputs": [
    {
     "name": "stdout",
     "output_type": "stream",
     "text": [
      "2849\n",
      "10706\n"
     ]
    }
   ],
   "source": [
    "raw_pdbs = Path(\"../data/raw/pdb_pairs/pdb_files/pdb\")\n",
    "pdb_files = list(raw_pdbs.glob(\"*.pdb\"))\n",
    "print(len(pdb_files))\n",
    "\n",
    "raw_cifs = Path(\"../data/raw/pdb_pairs/pdb_files/cif\")\n",
    "cif_files = list(raw_cifs.glob(\"*.cif\"))\n",
    "print(len(cif_files))\n"
   ]
  },
  {
   "cell_type": "code",
   "execution_count": 3,
   "id": "e83e43ec-15b2-411f-aa2c-22e5f70af22d",
   "metadata": {
    "tags": []
   },
   "outputs": [
    {
     "name": "stdout",
     "output_type": "stream",
     "text": [
      "Valid number of PDB IDs: 4803\n"
     ]
    }
   ],
   "source": [
    "# List the structures that we use\n",
    "df = pd.read_csv(\"../data/processed/pdb_pairs/filtered_df.csv\")\n",
    "pdbs_a = set(df[\"ENTRY_ID_ONE\"])\n",
    "pdbs_b = set(df[\"ENTRY_ID_TWO\"])\n",
    "valid_pdbs = pdbs_a.union(pdbs_b)\n",
    "print(f\"Valid number of PDB IDs: {len(valid_pdbs)}\")"
   ]
  },
  {
   "cell_type": "code",
   "execution_count": 4,
   "id": "299315ac-4927-4956-94ef-1b1bfa6c1375",
   "metadata": {
    "tags": []
   },
   "outputs": [
    {
     "name": "stdout",
     "output_type": "stream",
     "text": [
      "4803 valid CIF files\n"
     ]
    }
   ],
   "source": [
    "valid_cif_files = [x for x in cif_files if x.stem.lower() in valid_pdbs]\n",
    "print(f\"{len(valid_cif_files)} valid CIF files\")"
   ]
  },
  {
   "cell_type": "code",
   "execution_count": 5,
   "id": "db84e126-61cb-4812-bae0-91f82f266747",
   "metadata": {
    "tags": []
   },
   "outputs": [
    {
     "name": "stderr",
     "output_type": "stream",
     "text": [
      " 96%|█████████████████████████████████████▎ | 4595/4803 [15:56<00:52,  3.96it/s]"
     ]
    },
    {
     "name": "stdout",
     "output_type": "stream",
     "text": [
      "File ../data/raw/pdb_pairs/pdb_files/cif/3UVR.cif missing author name; adding placeholders\n"
     ]
    },
    {
     "name": "stderr",
     "output_type": "stream",
     "text": [
      "100%|███████████████████████████████████████| 4803/4803 [16:49<00:00,  4.76it/s]\n"
     ]
    }
   ],
   "source": [
    "# Iterate over structures to get the last author of each\n",
    "structure_to_lead_author = {}\n",
    "for cif_file in tqdm(valid_cif_files):\n",
    "    mmcif_dict = MMCIF2Dict(cif_file)\n",
    "    try:\n",
    "        authors = mmcif_dict[\"_citation_author.name\"]\n",
    "        lead_author = authors[-1]\n",
    "        structure_to_lead_author[cif_file.stem.lower()] = lead_author\n",
    "    except KeyError:\n",
    "        print(f\"File {cif_file} missing author name; adding placeholders\")\n",
    "        structure_to_lead_author[cif_file.stem.lower()] = \"ANONYMOUS\""
   ]
  },
  {
   "cell_type": "code",
   "execution_count": 6,
   "id": "12a34327-e3ed-4355-b85a-ad4c3debde4f",
   "metadata": {
    "tags": []
   },
   "outputs": [],
   "source": [
    "# Manually add author name https://www.rcsb.org/structure/3UVR\n",
    "structure_to_lead_author[\"3uvr\"] = \"Rauh, D.\""
   ]
  },
  {
   "cell_type": "code",
   "execution_count": 7,
   "id": "59346051-2c96-4c39-8e69-4da5b91ec677",
   "metadata": {
    "tags": []
   },
   "outputs": [],
   "source": [
    "author_counter = Counter(structure_to_lead_author.values())\n",
    "\n",
    "author_df = pd.DataFrame.from_dict(structure_to_lead_author,orient='index',\n",
    "                       columns=['lead_author'])\n",
    "author_df.to_csv(\"../data/processed/pdb_pairs/author_df.csv\")"
   ]
  },
  {
   "cell_type": "code",
   "execution_count": 8,
   "id": "ac1f4288-48b2-4863-8940-4e6491f98651",
   "metadata": {
    "tags": []
   },
   "outputs": [],
   "source": []
  },
  {
   "cell_type": "markdown",
   "id": "a8cf8711-69bb-4280-8f6f-69a0172c0efa",
   "metadata": {
    "tags": []
   },
   "source": [
    "# Wrangle the data for input to a model"
   ]
  },
  {
   "cell_type": "code",
   "execution_count": 9,
   "id": "97fc9e9c-0af1-4a3a-acda-9e2e57911808",
   "metadata": {
    "tags": []
   },
   "outputs": [],
   "source": [
    "rmsds_path = Path(\"../results/rmsds\")\n",
    "subdirs = [x for x in rmsds_path.iterdir() if x.is_dir()]"
   ]
  },
  {
   "cell_type": "code",
   "execution_count": 10,
   "id": "541cb8a8-1c53-4e8b-b873-3217210f3683",
   "metadata": {
    "tags": []
   },
   "outputs": [],
   "source": [
    "glm_df = []\n",
    "columns = [\"structure_pair\",\"rmsd\",\"is_phospho_a\",\"is_phospho_b\",\"same_lead_author\"]\n",
    "for subdir in tqdm(subdirs):\n",
    "    #print(subdir)\n",
    "    rmsd_df = pd.read_csv(subdir / \"rmsds_df.csv\",index_col=0,\n",
    "                          dtype={'PDB_ID_A':'string',\n",
    "                                 'PDB_ID_B': 'string'})\n",
    "    \n",
    "    rmsd_df[\"ID_A\"] = rmsd_df[\"PDB_ID_A\"] + \"_\" + rmsd_df[\"Chain_A\"]\n",
    "    rmsd_df[\"ID_B\"] = rmsd_df[\"PDB_ID_B\"] + \"_\" + rmsd_df[\"Chain_B\"]\n",
    "    \n",
    "    for idx, row in rmsd_df.iterrows():\n",
    "        chain_a = row[\"ID_A\"]\n",
    "        chain_b = row[\"ID_B\"]\n",
    "        pdb_code_a = chain_a.split(\"_\")[0]\n",
    "        pdb_code_b = chain_b.split(\"_\")[0]\n",
    "\n",
    "        structure_pair = \"$\".join([chain_a, chain_b])\n",
    "        rmsd = row[\"RMSD\"]\n",
    "        group = row[\"Group\"]\n",
    "        \n",
    "        lead_author_a = structure_to_lead_author[pdb_code_a]\n",
    "        lead_author_b = structure_to_lead_author[pdb_code_b]\n",
    "        \n",
    "        if lead_author_a == lead_author_b:\n",
    "            same_lead_author = 1\n",
    "        else:\n",
    "            same_lead_author = 0\n",
    "        \n",
    "        if group == \"between_groups\":\n",
    "            is_phospho_a = 0\n",
    "            is_phospho_b = 1\n",
    "        elif group == \"within_phospho\":\n",
    "            is_phospho_a = 1\n",
    "            is_phospho_b = 1\n",
    "        elif group == \"within_nonphospho\":\n",
    "            is_phospho_a = 0\n",
    "            is_phospho_b = 0\n",
    "        else:\n",
    "            raise ValueError(f\"Invalid group value {group}\")\n",
    "        row = [structure_pair, rmsd, is_phospho_a, is_phospho_b, same_lead_author]\n",
    "        glm_df.append(row)\n",
    "glm_df = pd.DataFrame(glm_df,columns=columns)"
   ]
  },
  {
   "cell_type": "code",
   "execution_count": null,
   "id": "cbdd7a40-f378-4d9d-b39e-6b4fd2516dbd",
   "metadata": {
    "tags": []
   },
   "outputs": [],
   "source": [
    "glm_df.to_csv(\"../data/processed/glm_control_input/glm_df.csv\")"
   ]
  },
  {
   "cell_type": "code",
   "execution_count": null,
   "id": "30d9ac6e-3655-4294-9f01-5ba739384246",
   "metadata": {
    "tags": []
   },
   "outputs": [],
   "source": [
    "phospho_df = glm_df.loc[(glm_df[\"is_phospho_a\"]==1) & (glm_df[\"is_phospho_b\"]==1)]\n",
    "phospho_df.to_csv(\"../data/processed/glm_control_input/phospho_df.csv\")"
   ]
  },
  {
   "cell_type": "code",
   "execution_count": null,
   "id": "f2393fe1-fc6e-4227-9061-cd6416508824",
   "metadata": {
    "tags": []
   },
   "outputs": [],
   "source": [
    "nonphospho_df = glm_df.loc[(glm_df[\"is_phospho_a\"]==0) & (glm_df[\"is_phospho_b\"]==0)]\n",
    "nonphospho_df.to_csv(\"../data/processed/glm_control_input/nonphospho_df.csv\")"
   ]
  },
  {
   "cell_type": "code",
   "execution_count": null,
   "id": "57e84907-46b3-45d2-ae41-c5a156c19c37",
   "metadata": {
    "tags": []
   },
   "outputs": [],
   "source": []
  }
 ],
 "metadata": {
  "kernelspec": {
   "display_name": "Python 3 (ipykernel)",
   "language": "python",
   "name": "python3"
  },
  "language_info": {
   "codemirror_mode": {
    "name": "ipython",
    "version": 3
   },
   "file_extension": ".py",
   "mimetype": "text/x-python",
   "name": "python",
   "nbconvert_exporter": "python",
   "pygments_lexer": "ipython3",
   "version": "3.10.13"
  }
 },
 "nbformat": 4,
 "nbformat_minor": 5
}
